{
 "cells": [
  {
   "cell_type": "markdown",
   "metadata": {},
   "source": [
    "<div>\n",
    "  <h1>Homework 1 due to 10.7 - 20201604 김준하</h1>\n",
    "</div>\n"
   ]
  },
  {
   "cell_type": "code",
   "execution_count": 85,
   "metadata": {},
   "outputs": [],
   "source": [
    "import cv2\n",
    "import numpy as np\n",
    "from matplotlib import pyplot as plt"
   ]
  },
  {
   "cell_type": "code",
   "execution_count": 86,
   "metadata": {},
   "outputs": [],
   "source": [
    "def nothing(x):\n",
    "  pass # pass: 반복문, 함수, 조건문에서 내용을 비워두고 싶을 때 사용하는 키워드"
   ]
  },
  {
   "cell_type": "code",
   "execution_count": 87,
   "metadata": {},
   "outputs": [],
   "source": [
    "# 이미지 로드(둘 다 동일한 이미지)\n",
    "img1 = cv2.imread('testImg1.jpg') # 원본 이미지\n",
    "img2 = cv2.imread('testImg1.jpg') # 사각형을 그려넣을 이미지"
   ]
  },
  {
   "cell_type": "code",
   "execution_count": 88,
   "metadata": {},
   "outputs": [],
   "source": [
    "# img2 위에 사각형을 그리는 코드\n",
    "\n",
    "font = cv2.FONT_HERSHEY_SIMPLEX\n",
    "drawing = False # true if mouse is pressed\n",
    "ix,iy = -1,-1\n",
    "isUsed = False # draw_circle함수가 사용되었음을 나타내는 bool 변수.\n",
    "\n",
    "# mouse callback function\n",
    "def draw_circle(event,x,y,flags,param):\n",
    "  global ix,iy,drawing,tmpImg,printText,isUsed\n",
    "  if event == cv2.EVENT_LBUTTONDOWN:\n",
    "    isUsed = True\n",
    "    tmpImg = cv2.imread('testImg1.jpg') # 글자 입력을 위한 이미지를 로드받을 변수. 새 값 입력을 위해 매번 초기화 된다.\n",
    "    drawing = True\n",
    "    ix,iy = x,y\n",
    "  elif event == cv2.EVENT_MOUSEMOVE:\n",
    "    if drawing:\n",
    "      cv2.rectangle(tmpImg,(ix,iy),(x,y),(0,255,0),-1)\n",
    "  elif event == cv2.EVENT_LBUTTONUP:\n",
    "    if drawing:\n",
    "      printText = f'Mouse position ({str(ix)}, {str(iy)}) - ({str(x)}, {str(y)}) - {str(w)}'\n",
    "      cv2.rectangle(tmpImg,(ix,iy),(x,y),(0,0,255),-1)\n",
    "    drawing = False\n",
    "    \n",
    "    \n",
    "    "
   ]
  },
  {
   "cell_type": "code",
   "execution_count": 89,
   "metadata": {},
   "outputs": [],
   "source": [
    "cv2.namedWindow('image')\n",
    "\n",
    "# 트랙 바를 만든다. 트랙 바 이름: 'add', 윈도우(창) 이름: 'image', 기본값: 0, 최대값: 100, 트랙 바의 값이 변경될때 호출되는 콜백함수: nothing\n",
    "cv2.createTrackbar('add','image', 50, 100, nothing)\n",
    "\n",
    "# 'image' 윈도우에 마우스 콜백 함수를 넣는다.\n",
    "cv2.setMouseCallback('image',draw_circle)\n",
    "\n",
    "# cv2.addWeighted(src1, alpha, src2, beta, gamma, dst=None, dtype=None) -> dst  // 가중치 합, 평균 연산\n",
    "# src1: 첫번째 값(이미지나 영상)\n",
    "# alpha: src1의 가중치\n",
    "# src2: 두번째 값(이미지나 영상)\n",
    "# beta: src2의 가중치\n",
    "# gamma: 결과값이 추가적으로 더할 값\n",
    "# dst: 가중치 합 결과\n",
    "\n",
    "w = 50\n",
    "\n",
    "while(1):\n",
    "  # 트랙 바를 불러온다. 불러올 트랙 바의 이름: 'add', 윈도우의 이름: 'image'\n",
    "  w = cv2.getTrackbarPos('add', 'image')\n",
    "\n",
    "  # draw_circle 함수가 사용 유무에 따라 dst가 달라진다.\n",
    "  if isUsed == False:\n",
    "    dst = cv2.addWeighted(img1, 1.0, img2, 0.0, 0)\n",
    "  else:\n",
    "    # 트랙 바의 위치(값)를 반영하여 dst값 갱신\n",
    "    dst = cv2.addWeighted(tmpImg, 1-w/100., img2, w/100.0, 0)\n",
    "    # dst에(dst위에) 텍스트를 삽입 => 해상도를 조절해도 텍스트는 영향을 받지 않게 된다.\n",
    "    cv2.putText(dst, printText, (10,50), font, 0.5, (255,255,255), 1, cv2.LINE_AA)\n",
    "\n",
    "\n",
    "  cv2.imshow('image', dst)\n",
    "  k = cv2.waitKey(1) & 0xFF # 1msec 동안 입력을 대기받는다. 그 결과를 비트연산자로 0xFF와 AND 연산하여 8비트값으로 만듦. -> 입력받은 값에서 8비트 값만 추출\n",
    "  if k == 27: # 입력받은 값이 27와 같은지 확인. 여기서 27은 'Esc'키를 의미.\n",
    "    break\n",
    "\n",
    "\n",
    "  \n",
    "cv2.destroyAllWindows()"
   ]
  },
  {
   "cell_type": "code",
   "execution_count": 90,
   "metadata": {},
   "outputs": [
    {
     "data": {
      "text/plain": [
       "-1"
      ]
     },
     "execution_count": 90,
     "metadata": {},
     "output_type": "execute_result"
    }
   ],
   "source": [
    "cv2.destroyAllWindows()\n",
    "\n",
    "# mac에서 cv2 윈도우가 안꺼지는 현상 해결을 위한 코드\n",
    "cv2.waitKey(1)\n",
    "cv2.waitKey(1)\n",
    "cv2.waitKey(1)\n",
    "cv2.waitKey(1)\n",
    "cv2.waitKey(1)"
   ]
  }
 ],
 "metadata": {
  "kernelspec": {
   "display_name": "IP2024",
   "language": "python",
   "name": "python3"
  },
  "language_info": {
   "codemirror_mode": {
    "name": "ipython",
    "version": 3
   },
   "file_extension": ".py",
   "mimetype": "text/x-python",
   "name": "python",
   "nbconvert_exporter": "python",
   "pygments_lexer": "ipython3",
   "version": "3.8.19"
  }
 },
 "nbformat": 4,
 "nbformat_minor": 2
}
