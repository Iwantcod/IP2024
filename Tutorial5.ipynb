{
  "nbformat": 4,
  "nbformat_minor": 0,
  "metadata": {
    "colab": {
      "provenance": [],
      "authorship_tag": "ABX9TyN7NAWN9FCh4OL2rFHpidv9"
    },
    "kernelspec": {
      "name": "python3",
      "display_name": "Python 3"
    },
    "language_info": {
      "name": "python"
    }
  },
  "cells": [
    {
      "cell_type": "code",
      "execution_count": 4,
      "metadata": {
        "colab": {
          "base_uri": "https://localhost:8080/"
        },
        "id": "7bziSz7fkB9g",
        "outputId": "5787629a-1ab8-426e-ea23-7dba04b5dcb1"
      },
      "outputs": [
        {
          "output_type": "stream",
          "name": "stdout",
          "text": [
            "X equals something else.\n",
            "This is outside the ‘if’.\n"
          ]
        }
      ],
      "source": [
        "x = 1\n",
        "\n",
        "if x == 3:\n",
        "  print(\"X equals 3.\")\n",
        "elif x == 2:\n",
        "  print(\"X equals 2.\")\n",
        "else:\n",
        "  print (\"X equals something else.\")\n",
        "  print (\"This is outside the ‘if’.\")"
      ]
    },
    {
      "cell_type": "code",
      "source": [
        "x = 3\n",
        "while x < 5:\n",
        "  print(x, \"still in the loop\")\n",
        "  x = x + 1\n",
        "\n",
        "x = 6\n",
        "while x < 5:\n",
        "  print(x, \"still in the loop\")"
      ],
      "metadata": {
        "colab": {
          "base_uri": "https://localhost:8080/"
        },
        "id": "uHzDZ_QykazY",
        "outputId": "376fbe89-403d-448a-ae01-1f6e015c56ee"
      },
      "execution_count": 6,
      "outputs": [
        {
          "output_type": "stream",
          "name": "stdout",
          "text": [
            "3 still in the loop\n",
            "4 still in the loop\n"
          ]
        }
      ]
    }
  ]
}