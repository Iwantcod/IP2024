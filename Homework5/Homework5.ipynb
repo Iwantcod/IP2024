{
 "cells": [
  {
   "cell_type": "markdown",
   "metadata": {},
   "source": []
  },
  {
   "cell_type": "code",
   "execution_count": 21,
   "metadata": {},
   "outputs": [],
   "source": [
    "import numpy as np\n",
    "import cv2"
   ]
  },
  {
   "cell_type": "code",
   "execution_count": 22,
   "metadata": {},
   "outputs": [],
   "source": [
    "# 기준 이미지 로드 (찾고자 하는 객체)\n",
    "query_img = cv2.imread('./target.png', 0)\n",
    "\n",
    "# SIFT 생성\n",
    "sift = cv2.SIFT_create()\n",
    "kp1, des1 = sift.detectAndCompute(query_img, None)"
   ]
  },
  {
   "cell_type": "code",
   "execution_count": 23,
   "metadata": {},
   "outputs": [],
   "source": [
    "video_path = 'testVideo.avi'\n",
    "cap = cv2.VideoCapture(video_path)\n",
    "\n",
    "if not cap.isOpened():\n",
    "    print(f\"Error: 비디오 파일 '{video_path}'을 열 수 없습니다.\")\n",
    "    exit()\n",
    "\n",
    "# BFMatcher 생성\n",
    "bf = cv2.BFMatcher(cv2.NORM_L1, crossCheck=True)"
   ]
  },
  {
   "cell_type": "code",
   "execution_count": 24,
   "metadata": {},
   "outputs": [
    {
     "name": "stdout",
     "output_type": "stream",
     "text": [
      "비디오 종료.\n"
     ]
    }
   ],
   "source": [
    "while True:\n",
    "    ret, frame = cap.read()\n",
    "    if not ret:\n",
    "        print(\"비디오 종료.\")\n",
    "        break\n",
    "\n",
    "    # 현재 프레임을 그레이스케일로 변환\n",
    "    gray_frame = cv2.cvtColor(frame, cv2.COLOR_BGR2GRAY)\n",
    "\n",
    "    # 현재 프레임에서 SIFT 키포인트와 디스크립터 추출\n",
    "    kp2, des2 = sift.detectAndCompute(gray_frame, None)\n",
    "\n",
    "    if des2 is not None and len(des2) > 0:\n",
    "        # 매칭 수행\n",
    "        matches = bf.match(des1, des2)\n",
    "\n",
    "        # 매칭 결과 정렬 (거리 기준)\n",
    "        matches = sorted(matches, key=lambda x: x.distance)\n",
    "\n",
    "        # 상위 매칭 결과 그리기\n",
    "        result_img = cv2.drawMatches(query_img, kp1, frame, kp2, matches[:30], None,\n",
    "                                     flags=cv2.DRAW_MATCHES_FLAGS_NOT_DRAW_SINGLE_POINTS)\n",
    "\n",
    "        # 결과를 화면에 표시\n",
    "        cv2.imshow('Object Matching', result_img)\n",
    "    else:\n",
    "        # 디스크립터가 없을 때 (매칭할 수 없음)\n",
    "        cv2.imshow('Object Matching', frame)\n",
    "\n",
    "    # 'q' 키를 누르면 종료\n",
    "    if cv2.waitKey(1) & 0xFF == ord('q'):\n",
    "        break"
   ]
  },
  {
   "cell_type": "code",
   "execution_count": 25,
   "metadata": {},
   "outputs": [],
   "source": [
    "cap.release()\n",
    "cv2.destroyAllWindows()"
   ]
  },
  {
   "cell_type": "code",
   "execution_count": 26,
   "metadata": {},
   "outputs": [
    {
     "data": {
      "text/plain": [
       "-1"
      ]
     },
     "execution_count": 26,
     "metadata": {},
     "output_type": "execute_result"
    }
   ],
   "source": [
    "cv2.waitKey(1)\n",
    "cv2.waitKey(1)\n",
    "cv2.waitKey(1)"
   ]
  }
 ],
 "metadata": {
  "kernelspec": {
   "display_name": "IP2024",
   "language": "python",
   "name": "python3"
  },
  "language_info": {
   "codemirror_mode": {
    "name": "ipython",
    "version": 3
   },
   "file_extension": ".py",
   "mimetype": "text/x-python",
   "name": "python",
   "nbconvert_exporter": "python",
   "pygments_lexer": "ipython3",
   "version": "3.8.19"
  }
 },
 "nbformat": 4,
 "nbformat_minor": 2
}
