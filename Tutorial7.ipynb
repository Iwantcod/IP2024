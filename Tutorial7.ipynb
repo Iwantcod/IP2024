{
  "nbformat": 4,
  "nbformat_minor": 0,
  "metadata": {
    "colab": {
      "provenance": [],
      "authorship_tag": "ABX9TyPACUBzMkyTY35Tg538V53Y"
    },
    "kernelspec": {
      "name": "python3",
      "display_name": "Python 3"
    },
    "language_info": {
      "name": "python"
    }
  },
  "cells": [
    {
      "cell_type": "code",
      "execution_count": 2,
      "metadata": {
        "colab": {
          "base_uri": "https://localhost:8080/"
        },
        "id": "jgnabjrZl9qI",
        "outputId": "cd529ac3-f7cf-423d-97df-400b9269a995"
      },
      "outputs": [
        {
          "output_type": "execute_result",
          "data": {
            "text/plain": [
              "[6, 12, 4, 14]"
            ]
          },
          "metadata": {},
          "execution_count": 2
        }
      ],
      "source": [
        "li = [3, 6, 2, 7]\n",
        "[elem*2 for elem in li]\n"
      ]
    },
    {
      "cell_type": "code",
      "source": [
        "li = [('a', 1), ('b', 2), ('c', 7)]\n",
        "[ n * 3 for (x, n) in li]"
      ],
      "metadata": {
        "colab": {
          "base_uri": "https://localhost:8080/"
        },
        "id": "EqVr5qZ6mY57",
        "outputId": "de53f18f-7233-4a94-8651-e878abcf930e"
      },
      "execution_count": 3,
      "outputs": [
        {
          "output_type": "execute_result",
          "data": {
            "text/plain": [
              "[3, 6, 21]"
            ]
          },
          "metadata": {},
          "execution_count": 3
        }
      ]
    },
    {
      "cell_type": "code",
      "source": [
        "li = [3, 6, 2, 7, 1, 9]\n",
        "[elem * 2 for elem in li if elem > 4]"
      ],
      "metadata": {
        "colab": {
          "base_uri": "https://localhost:8080/"
        },
        "id": "NVxOQIoEmiL5",
        "outputId": "ab462a2b-61f9-473a-8457-1d9712bbe64a"
      },
      "execution_count": 4,
      "outputs": [
        {
          "output_type": "execute_result",
          "data": {
            "text/plain": [
              "[12, 14, 18]"
            ]
          },
          "metadata": {},
          "execution_count": 4
        }
      ]
    },
    {
      "cell_type": "code",
      "source": [
        "li = [3, 2, 4, 1]\n",
        "[elem*2 for elem in\n",
        "  [item+1 for item in li] ]"
      ],
      "metadata": {
        "colab": {
          "base_uri": "https://localhost:8080/"
        },
        "id": "f5qF6ypnmtxU",
        "outputId": "e719e2dd-d6d7-47cb-9a2d-bad7d95157f2"
      },
      "execution_count": 5,
      "outputs": [
        {
          "output_type": "execute_result",
          "data": {
            "text/plain": [
              "[8, 6, 10, 4]"
            ]
          },
          "metadata": {},
          "execution_count": 5
        }
      ]
    }
  ]
}