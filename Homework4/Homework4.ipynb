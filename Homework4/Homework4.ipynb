{
 "cells": [
  {
   "cell_type": "markdown",
   "metadata": {},
   "source": [
    "<div>\n",
    "  <h1>Homework 4 - 20201604 김준하</h1>\n",
    "</div>"
   ]
  },
  {
   "cell_type": "code",
   "execution_count": 47,
   "metadata": {},
   "outputs": [],
   "source": [
    "import numpy as np\n",
    "import cv2"
   ]
  },
  {
   "cell_type": "code",
   "execution_count": 48,
   "metadata": {},
   "outputs": [],
   "source": [
    "def run_main():\n",
    "    cap = cv2.VideoCapture('./IMG_4106.MOV')\n",
    "    cap.set(cv2.CAP_PROP_FRAME_WIDTH, 1280)\n",
    "    cap.set(cv2.CAP_PROP_FRAME_HEIGHT, 720)\n",
    "\n",
    "    while True:\n",
    "        ret, frame = cap.read()\n",
    "        if not ret:\n",
    "            print(\"영상을 읽을 수 없습니다.\")\n",
    "            break\n",
    "\n",
    "        # BGR 이미지를 HSV 색상 공간으로 변환\n",
    "        hsv = cv2.cvtColor(frame, cv2.COLOR_BGR2HSV)\n",
    "        \n",
    "        # 연두색 범위 설정 (조명에 맞춰 조정 필요)\n",
    "        lower_green = np.array([40, 70, 70])   # 연두색의 하한값\n",
    "        upper_green = np.array([80, 255, 255]) # 연두색의 상한값\n",
    "        mask = cv2.inRange(hsv, lower_green, upper_green)\n",
    "\n",
    "        # 원본 이미지에서 연두색 영역만 필터링\n",
    "        masked_frame = cv2.bitwise_and(frame, frame, mask=mask)\n",
    "        \n",
    "        # 그레이스케일로 변환 후 블러로 노이즈 제거\n",
    "        gray = cv2.cvtColor(masked_frame, cv2.COLOR_BGR2GRAY)\n",
    "        gray_blur = cv2.GaussianBlur(gray, (15, 15), 0)\n",
    "\n",
    "        # 윤곽선 찾기\n",
    "        contours, _ = cv2.findContours(gray_blur, cv2.RETR_EXTERNAL, cv2.CHAIN_APPROX_SIMPLE)\n",
    "\n",
    "        for cnt in contours:\n",
    "            area = cv2.contourArea(cnt)\n",
    "            if area > 500:  # 뚜껑 크기에 맞춰 면적 조건 설정\n",
    "                # 윤곽선이 충분히 크고 모양이 둥근 경우 타원 맞추기\n",
    "                if len(cnt) >= 5:\n",
    "                    ellipse = cv2.fitEllipse(cnt)\n",
    "                    cv2.ellipse(frame, ellipse, (0, 0, 255), 2)  # 빨간색 타원 표시\n",
    "\n",
    "        # 결과 화면 출력\n",
    "        cv2.imshow(\"Masked Frame\", masked_frame)\n",
    "        cv2.imshow(\"Detected Bottle Cap\", frame)\n",
    "\n",
    "        # 'ESC' 키로 종료\n",
    "        if cv2.waitKey(1) & 0xFF == 27:\n",
    "            break\n",
    "\n",
    "    cap.release()\n",
    "    cv2.destroyAllWindows()\n",
    "    cv2.waitKey(1)\n",
    "    cv2.waitKey(1)\n",
    "    cv2.waitKey(1)"
   ]
  },
  {
   "cell_type": "code",
   "execution_count": 49,
   "metadata": {},
   "outputs": [],
   "source": [
    "if __name__ == \"__main__\":\n",
    "    run_main()"
   ]
  },
  {
   "cell_type": "code",
   "execution_count": 50,
   "metadata": {},
   "outputs": [
    {
     "data": {
      "text/plain": [
       "-1"
      ]
     },
     "execution_count": 50,
     "metadata": {},
     "output_type": "execute_result"
    }
   ],
   "source": [
    "cv2.destroyAllWindows()\n",
    "cv2.waitKey(1)\n",
    "cv2.waitKey(1)\n",
    "cv2.waitKey(1)\n",
    "cv2.waitKey(1)"
   ]
  }
 ],
 "metadata": {
  "kernelspec": {
   "display_name": "IP2024",
   "language": "python",
   "name": "python3"
  },
  "language_info": {
   "codemirror_mode": {
    "name": "ipython",
    "version": 3
   },
   "file_extension": ".py",
   "mimetype": "text/x-python",
   "name": "python",
   "nbconvert_exporter": "python",
   "pygments_lexer": "ipython3",
   "version": "3.8.19"
  }
 },
 "nbformat": 4,
 "nbformat_minor": 2
}
